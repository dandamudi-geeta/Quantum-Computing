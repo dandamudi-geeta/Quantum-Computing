{
  "nbformat": 4,
  "nbformat_minor": 0,
  "metadata": {
    "colab": {
      "provenance": [],
      "authorship_tag": "ABX9TyMKR0KwMScSvvvnhfKBwD5R",
      "include_colab_link": true
    },
    "kernelspec": {
      "name": "python3",
      "display_name": "Python 3"
    },
    "language_info": {
      "name": "python"
    }
  },
  "cells": [
    {
      "cell_type": "markdown",
      "metadata": {
        "id": "view-in-github",
        "colab_type": "text"
      },
      "source": [
        "<a href=\"https://colab.research.google.com/github/dandamudi-geeta/Quantum-Computing/blob/main/2348512_QC(Lab5).ipynb\" target=\"_parent\"><img src=\"https://colab.research.google.com/assets/colab-badge.svg\" alt=\"Open In Colab\"/></a>"
      ]
    },
    {
      "cell_type": "code",
      "source": [
        "pip install qiskit\n"
      ],
      "metadata": {
        "colab": {
          "base_uri": "https://localhost:8080/"
        },
        "id": "iVBA0eOO4Q-E",
        "outputId": "9f644d28-1b22-4643-bffd-afbc06916246"
      },
      "execution_count": 2,
      "outputs": [
        {
          "output_type": "stream",
          "name": "stdout",
          "text": [
            "Collecting qiskit\n",
            "  Downloading qiskit-1.2.4-cp38-abi3-manylinux_2_17_x86_64.manylinux2014_x86_64.whl.metadata (12 kB)\n",
            "Collecting rustworkx>=0.15.0 (from qiskit)\n",
            "  Downloading rustworkx-0.15.1-cp38-abi3-manylinux_2_17_x86_64.manylinux2014_x86_64.whl.metadata (9.9 kB)\n",
            "Requirement already satisfied: numpy<3,>=1.17 in /usr/local/lib/python3.10/dist-packages (from qiskit) (1.26.4)\n",
            "Requirement already satisfied: scipy>=1.5 in /usr/local/lib/python3.10/dist-packages (from qiskit) (1.13.1)\n",
            "Requirement already satisfied: sympy>=1.3 in /usr/local/lib/python3.10/dist-packages (from qiskit) (1.13.1)\n",
            "Collecting dill>=0.3 (from qiskit)\n",
            "  Downloading dill-0.3.9-py3-none-any.whl.metadata (10 kB)\n",
            "Requirement already satisfied: python-dateutil>=2.8.0 in /usr/local/lib/python3.10/dist-packages (from qiskit) (2.8.2)\n",
            "Collecting stevedore>=3.0.0 (from qiskit)\n",
            "  Downloading stevedore-5.3.0-py3-none-any.whl.metadata (2.3 kB)\n",
            "Requirement already satisfied: typing-extensions in /usr/local/lib/python3.10/dist-packages (from qiskit) (4.12.2)\n",
            "Collecting symengine<0.14,>=0.11 (from qiskit)\n",
            "  Downloading symengine-0.13.0-cp310-cp310-manylinux_2_17_x86_64.manylinux2014_x86_64.whl.metadata (1.2 kB)\n",
            "Requirement already satisfied: six>=1.5 in /usr/local/lib/python3.10/dist-packages (from python-dateutil>=2.8.0->qiskit) (1.16.0)\n",
            "Collecting pbr>=2.0.0 (from stevedore>=3.0.0->qiskit)\n",
            "  Downloading pbr-6.1.0-py2.py3-none-any.whl.metadata (3.4 kB)\n",
            "Requirement already satisfied: mpmath<1.4,>=1.1.0 in /usr/local/lib/python3.10/dist-packages (from sympy>=1.3->qiskit) (1.3.0)\n",
            "Downloading qiskit-1.2.4-cp38-abi3-manylinux_2_17_x86_64.manylinux2014_x86_64.whl (4.8 MB)\n",
            "\u001b[2K   \u001b[90m━━━━━━━━━━━━━━━━━━━━━━━━━━━━━━━━━━━━━━━━\u001b[0m \u001b[32m4.8/4.8 MB\u001b[0m \u001b[31m33.4 MB/s\u001b[0m eta \u001b[36m0:00:00\u001b[0m\n",
            "\u001b[?25hDownloading dill-0.3.9-py3-none-any.whl (119 kB)\n",
            "\u001b[2K   \u001b[90m━━━━━━━━━━━━━━━━━━━━━━━━━━━━━━━━━━━━━━━━\u001b[0m \u001b[32m119.4/119.4 kB\u001b[0m \u001b[31m7.4 MB/s\u001b[0m eta \u001b[36m0:00:00\u001b[0m\n",
            "\u001b[?25hDownloading rustworkx-0.15.1-cp38-abi3-manylinux_2_17_x86_64.manylinux2014_x86_64.whl (2.0 MB)\n",
            "\u001b[2K   \u001b[90m━━━━━━━━━━━━━━━━━━━━━━━━━━━━━━━━━━━━━━━━\u001b[0m \u001b[32m2.0/2.0 MB\u001b[0m \u001b[31m51.9 MB/s\u001b[0m eta \u001b[36m0:00:00\u001b[0m\n",
            "\u001b[?25hDownloading stevedore-5.3.0-py3-none-any.whl (49 kB)\n",
            "\u001b[2K   \u001b[90m━━━━━━━━━━━━━━━━━━━━━━━━━━━━━━━━━━━━━━━━\u001b[0m \u001b[32m49.7/49.7 kB\u001b[0m \u001b[31m2.7 MB/s\u001b[0m eta \u001b[36m0:00:00\u001b[0m\n",
            "\u001b[?25hDownloading symengine-0.13.0-cp310-cp310-manylinux_2_17_x86_64.manylinux2014_x86_64.whl (49.7 MB)\n",
            "\u001b[2K   \u001b[90m━━━━━━━━━━━━━━━━━━━━━━━━━━━━━━━━━━━━━━━━\u001b[0m \u001b[32m49.7/49.7 MB\u001b[0m \u001b[31m15.2 MB/s\u001b[0m eta \u001b[36m0:00:00\u001b[0m\n",
            "\u001b[?25hDownloading pbr-6.1.0-py2.py3-none-any.whl (108 kB)\n",
            "\u001b[2K   \u001b[90m━━━━━━━━━━━━━━━━━━━━━━━━━━━━━━━━━━━━━━━━\u001b[0m \u001b[32m108.5/108.5 kB\u001b[0m \u001b[31m5.3 MB/s\u001b[0m eta \u001b[36m0:00:00\u001b[0m\n",
            "\u001b[?25hInstalling collected packages: symengine, rustworkx, pbr, dill, stevedore, qiskit\n",
            "Successfully installed dill-0.3.9 pbr-6.1.0 qiskit-1.2.4 rustworkx-0.15.1 stevedore-5.3.0 symengine-0.13.0\n"
          ]
        }
      ]
    },
    {
      "cell_type": "code",
      "source": [
        "!pip install qiskit-aer"
      ],
      "metadata": {
        "colab": {
          "base_uri": "https://localhost:8080/"
        },
        "id": "wBikgMLp4rCH",
        "outputId": "65d09c0c-0437-494a-f91d-7c6f2394134e"
      },
      "execution_count": 3,
      "outputs": [
        {
          "output_type": "stream",
          "name": "stdout",
          "text": [
            "Collecting qiskit-aer\n",
            "  Downloading qiskit_aer-0.15.1-cp310-cp310-manylinux_2_17_x86_64.manylinux2014_x86_64.whl.metadata (8.0 kB)\n",
            "Requirement already satisfied: qiskit>=1.1.0 in /usr/local/lib/python3.10/dist-packages (from qiskit-aer) (1.2.4)\n",
            "Requirement already satisfied: numpy>=1.16.3 in /usr/local/lib/python3.10/dist-packages (from qiskit-aer) (1.26.4)\n",
            "Requirement already satisfied: scipy>=1.0 in /usr/local/lib/python3.10/dist-packages (from qiskit-aer) (1.13.1)\n",
            "Requirement already satisfied: psutil>=5 in /usr/local/lib/python3.10/dist-packages (from qiskit-aer) (5.9.5)\n",
            "Requirement already satisfied: rustworkx>=0.15.0 in /usr/local/lib/python3.10/dist-packages (from qiskit>=1.1.0->qiskit-aer) (0.15.1)\n",
            "Requirement already satisfied: sympy>=1.3 in /usr/local/lib/python3.10/dist-packages (from qiskit>=1.1.0->qiskit-aer) (1.13.1)\n",
            "Requirement already satisfied: dill>=0.3 in /usr/local/lib/python3.10/dist-packages (from qiskit>=1.1.0->qiskit-aer) (0.3.9)\n",
            "Requirement already satisfied: python-dateutil>=2.8.0 in /usr/local/lib/python3.10/dist-packages (from qiskit>=1.1.0->qiskit-aer) (2.8.2)\n",
            "Requirement already satisfied: stevedore>=3.0.0 in /usr/local/lib/python3.10/dist-packages (from qiskit>=1.1.0->qiskit-aer) (5.3.0)\n",
            "Requirement already satisfied: typing-extensions in /usr/local/lib/python3.10/dist-packages (from qiskit>=1.1.0->qiskit-aer) (4.12.2)\n",
            "Requirement already satisfied: symengine<0.14,>=0.11 in /usr/local/lib/python3.10/dist-packages (from qiskit>=1.1.0->qiskit-aer) (0.13.0)\n",
            "Requirement already satisfied: six>=1.5 in /usr/local/lib/python3.10/dist-packages (from python-dateutil>=2.8.0->qiskit>=1.1.0->qiskit-aer) (1.16.0)\n",
            "Requirement already satisfied: pbr>=2.0.0 in /usr/local/lib/python3.10/dist-packages (from stevedore>=3.0.0->qiskit>=1.1.0->qiskit-aer) (6.1.0)\n",
            "Requirement already satisfied: mpmath<1.4,>=1.1.0 in /usr/local/lib/python3.10/dist-packages (from sympy>=1.3->qiskit>=1.1.0->qiskit-aer) (1.3.0)\n",
            "Downloading qiskit_aer-0.15.1-cp310-cp310-manylinux_2_17_x86_64.manylinux2014_x86_64.whl (12.3 MB)\n",
            "\u001b[2K   \u001b[90m━━━━━━━━━━━━━━━━━━━━━━━━━━━━━━━━━━━━━━━━\u001b[0m \u001b[32m12.3/12.3 MB\u001b[0m \u001b[31m30.7 MB/s\u001b[0m eta \u001b[36m0:00:00\u001b[0m\n",
            "\u001b[?25hInstalling collected packages: qiskit-aer\n",
            "Successfully installed qiskit-aer-0.15.1\n"
          ]
        }
      ]
    },
    {
      "cell_type": "code",
      "source": [
        "from qiskit_aer import AerSimulator"
      ],
      "metadata": {
        "id": "ybrse9qH5bph"
      },
      "execution_count": 4,
      "outputs": []
    },
    {
      "cell_type": "code",
      "source": [
        "from qiskit_aer import Aer"
      ],
      "metadata": {
        "id": "Ku8-1W1k8tqf"
      },
      "execution_count": 5,
      "outputs": []
    },
    {
      "cell_type": "code",
      "source": [
        "from qiskit import QuantumCircuit, QuantumRegister, ClassicalRegister\n",
        "from qiskit.visualization import plot_histogram\n",
        "from qiskit.quantum_info import Statevector\n",
        "from qiskit.primitives import Sampler\n",
        "from qiskit.result import marginal_distribution\n",
        "from qiskit.circuit.library import UGate\n",
        "from numpy import pi, random"
      ],
      "metadata": {
        "id": "UZSuSeqF8FoE"
      },
      "execution_count": 25,
      "outputs": []
    },
    {
      "cell_type": "code",
      "source": [
        "# Define the teleportation circuit\n",
        "teleport_circuit = QuantumCircuit(3, 2)"
      ],
      "metadata": {
        "id": "vYl0mdpl8evO"
      },
      "execution_count": 26,
      "outputs": []
    },
    {
      "cell_type": "code",
      "source": [
        "# Prepare initial state on Q (qubit 0)\n",
        "# We'll initialize qubit 0 to an arbitrary state |ψ⟩ = a|0⟩ + b|1⟩\n",
        "# Here, let's use an example state: 1/√2 (|0⟩ + |1⟩) for demonstration\n",
        "teleport_circuit.h(0)  # Apply H-gate to Q to create superposition\n",
        "\n",
        "teleport_circuit.barrier()"
      ],
      "metadata": {
        "colab": {
          "base_uri": "https://localhost:8080/"
        },
        "id": "Plgf3Wvm86Du",
        "outputId": "2ba09108-80e1-49a7-f829-5bd31ff02615"
      },
      "execution_count": 27,
      "outputs": [
        {
          "output_type": "execute_result",
          "data": {
            "text/plain": [
              "CircuitInstruction(operation=Instruction(name='barrier', num_qubits=3, num_clbits=0, params=[]), qubits=(Qubit(QuantumRegister(3, 'q'), 0), Qubit(QuantumRegister(3, 'q'), 1), Qubit(QuantumRegister(3, 'q'), 2)), clbits=())"
            ]
          },
          "metadata": {},
          "execution_count": 27
        }
      ]
    },
    {
      "cell_type": "code",
      "source": [
        "# Copy the initial state preparation for comparison later\n",
        "initial_state_circuit = QuantumCircuit(1)\n",
        "initial_state_circuit.h(0)  # The same operation as on Q in teleport_circuit\n",
        "\n",
        "teleport_circuit.barrier()\n"
      ],
      "metadata": {
        "colab": {
          "base_uri": "https://localhost:8080/"
        },
        "id": "tq1jplKY9ugj",
        "outputId": "ba15e8f8-b3bb-449a-9e46-99894768449a"
      },
      "execution_count": 28,
      "outputs": [
        {
          "output_type": "execute_result",
          "data": {
            "text/plain": [
              "CircuitInstruction(operation=Instruction(name='barrier', num_qubits=3, num_clbits=0, params=[]), qubits=(Qubit(QuantumRegister(3, 'q'), 0), Qubit(QuantumRegister(3, 'q'), 1), Qubit(QuantumRegister(3, 'q'), 2)), clbits=())"
            ]
          },
          "metadata": {},
          "execution_count": 28
        }
      ]
    },
    {
      "cell_type": "code",
      "source": [
        "# Step 2: Entangle A (qubit 1) and B (qubit 2)\n",
        "teleport_circuit.h(1)      # Apply H-gate to A\n",
        "teleport_circuit.cx(1, 2)   # Apply CNOT from A to B\n",
        "\n",
        "teleport_circuit.barrier()\n"
      ],
      "metadata": {
        "colab": {
          "base_uri": "https://localhost:8080/"
        },
        "id": "80Oq3sUH89qE",
        "outputId": "ffaf6e60-c709-4807-a75d-4569ebe5029d"
      },
      "execution_count": 29,
      "outputs": [
        {
          "output_type": "execute_result",
          "data": {
            "text/plain": [
              "CircuitInstruction(operation=Instruction(name='barrier', num_qubits=3, num_clbits=0, params=[]), qubits=(Qubit(QuantumRegister(3, 'q'), 0), Qubit(QuantumRegister(3, 'q'), 1), Qubit(QuantumRegister(3, 'q'), 2)), clbits=())"
            ]
          },
          "metadata": {},
          "execution_count": 29
        }
      ]
    },
    {
      "cell_type": "code",
      "source": [
        "# Step 3: Entangle Q and A\n",
        "teleport_circuit.cx(0, 1)   # Apply CNOT from Q to A\n",
        "teleport_circuit.h(0)       # Apply H-gate to Q\n",
        "\n",
        "teleport_circuit.barrier()"
      ],
      "metadata": {
        "colab": {
          "base_uri": "https://localhost:8080/"
        },
        "id": "lo3N-lDM9Am5",
        "outputId": "afdc26ad-d6dc-46e0-94c9-ea929701a546"
      },
      "execution_count": 30,
      "outputs": [
        {
          "output_type": "execute_result",
          "data": {
            "text/plain": [
              "CircuitInstruction(operation=Instruction(name='barrier', num_qubits=3, num_clbits=0, params=[]), qubits=(Qubit(QuantumRegister(3, 'q'), 0), Qubit(QuantumRegister(3, 'q'), 1), Qubit(QuantumRegister(3, 'q'), 2)), clbits=())"
            ]
          },
          "metadata": {},
          "execution_count": 30
        }
      ]
    },
    {
      "cell_type": "code",
      "source": [
        "# Step 4: Measure Q and A\n",
        "teleport_circuit.measure(0, 0)  # Measure Q\n",
        "teleport_circuit.measure(1, 1)  # Measure A\n",
        "\n",
        "teleport_circuit.barrier()"
      ],
      "metadata": {
        "colab": {
          "base_uri": "https://localhost:8080/"
        },
        "id": "XcLzeAk79ApL",
        "outputId": "1227b87c-461e-4f57-ceed-597c6b0c3aef"
      },
      "execution_count": 31,
      "outputs": [
        {
          "output_type": "execute_result",
          "data": {
            "text/plain": [
              "CircuitInstruction(operation=Instruction(name='barrier', num_qubits=3, num_clbits=0, params=[]), qubits=(Qubit(QuantumRegister(3, 'q'), 0), Qubit(QuantumRegister(3, 'q'), 1), Qubit(QuantumRegister(3, 'q'), 2)), clbits=())"
            ]
          },
          "metadata": {},
          "execution_count": 31
        }
      ]
    },
    {
      "cell_type": "code",
      "source": [
        "qubit = QuantumRegister(1, \"Q\")\n",
        "ebit0 = QuantumRegister(1, \"A\")\n",
        "ebit1 = QuantumRegister(1, \"B\")\n",
        "a = ClassicalRegister(1, \"a\")\n",
        "b = ClassicalRegister(1, \"b\")\n",
        "\n",
        "protocol = QuantumCircuit(qubit, ebit0, ebit1, a, b)\n",
        "\n",
        "protocol.h(ebit0)\n",
        "protocol.cx(ebit0, ebit1)\n",
        "protocol.barrier()\n"
      ],
      "metadata": {
        "colab": {
          "base_uri": "https://localhost:8080/"
        },
        "id": "bCzSPbpfnh1B",
        "outputId": "bb084fa3-9866-4e9c-d7c5-35e6fffbfcdb"
      },
      "execution_count": 32,
      "outputs": [
        {
          "output_type": "execute_result",
          "data": {
            "text/plain": [
              "CircuitInstruction(operation=Instruction(name='barrier', num_qubits=3, num_clbits=0, params=[]), qubits=(Qubit(QuantumRegister(1, 'Q'), 0), Qubit(QuantumRegister(1, 'A'), 0), Qubit(QuantumRegister(1, 'B'), 0)), clbits=())"
            ]
          },
          "metadata": {},
          "execution_count": 32
        }
      ]
    },
    {
      "cell_type": "code",
      "source": [
        "# Step 5: Conditional operations on B based on the measurement results\n",
        "# Conditional X gate on B if the measurement of A is 1\n",
        "# Alice's operations\n",
        "protocol.cx(qubit, ebit0)\n",
        "protocol.h(qubit)\n",
        "protocol.barrier()\n",
        "\n",
        "\n",
        "protocol.measure(ebit0, a)\n",
        "protocol.measure(qubit, b)\n",
        "protocol.barrier()\n",
        "\n",
        "\n",
        "with protocol.if_test((a, 1)):\n",
        "    protocol.x(ebit1)\n",
        "with protocol.if_test((b, 1)):\n",
        "    protocol.z(ebit1)\n",
        "\n",
        "display(protocol.draw())"
      ],
      "metadata": {
        "colab": {
          "base_uri": "https://localhost:8080/",
          "height": 371
        },
        "id": "Yj0RCnEe9Arr",
        "outputId": "b430563b-1ee3-41ae-9fbe-67e5e379a313"
      },
      "execution_count": 33,
      "outputs": [
        {
          "output_type": "display_data",
          "data": {
            "text/plain": [
              "                ░      ┌───┐ ░    ┌─┐ ░                                     »\n",
              "  Q: ───────────░───■──┤ H ├─░────┤M├─░─────────────────────────────────────»\n",
              "     ┌───┐      ░ ┌─┴─┐└───┘ ░ ┌─┐└╥┘ ░                                     »\n",
              "  A: ┤ H ├──■───░─┤ X ├──────░─┤M├─╫──░─────────────────────────────────────»\n",
              "     └───┘┌─┴─┐ ░ └───┘      ░ └╥┘ ║  ░ ┌────── ┌───┐ ───────┐ ┌────── ┌───┐»\n",
              "  B: ─────┤ X ├─░────────────░──╫──╫──░─┤ If-0  ┤ X ├  End-0 ├─┤ If-0  ┤ Z ├»\n",
              "          └───┘ ░            ░  ║  ║  ░ └──╥─── └───┘ ───────┘ └──╥─── └───┘»\n",
              "                                ║  ║    ┌──╨──┐                   ║         »\n",
              "a: 1/═══════════════════════════╩══╬════╡ 0x1 ╞═══════════════════╬═════════»\n",
              "                                0  ║    └─────┘                ┌──╨──┐      »\n",
              "b: 1/══════════════════════════════╩═══════════════════════════╡ 0x1 ╞══════»\n",
              "                                   0                           └─────┘      »\n",
              "«               \n",
              "«  Q: ──────────\n",
              "«               \n",
              "«  A: ──────────\n",
              "«      ───────┐ \n",
              "«  B:   End-0 ├─\n",
              "«      ───────┘ \n",
              "«a: 1/══════════\n",
              "«               \n",
              "«b: 1/══════════\n",
              "«               "
            ],
            "text/html": [
              "<pre style=\"word-wrap: normal;white-space: pre;background: #fff0;line-height: 1.1;font-family: &quot;Courier New&quot;,Courier,monospace\">                ░      ┌───┐ ░    ┌─┐ ░                                     »\n",
              "  Q: ───────────░───■──┤ H ├─░────┤M├─░─────────────────────────────────────»\n",
              "     ┌───┐      ░ ┌─┴─┐└───┘ ░ ┌─┐└╥┘ ░                                     »\n",
              "  A: ┤ H ├──■───░─┤ X ├──────░─┤M├─╫──░─────────────────────────────────────»\n",
              "     └───┘┌─┴─┐ ░ └───┘      ░ └╥┘ ║  ░ ┌────── ┌───┐ ───────┐ ┌────── ┌───┐»\n",
              "  B: ─────┤ X ├─░────────────░──╫──╫──░─┤ If-0  ┤ X ├  End-0 ├─┤ If-0  ┤ Z ├»\n",
              "          └───┘ ░            ░  ║  ║  ░ └──╥─── └───┘ ───────┘ └──╥─── └───┘»\n",
              "                                ║  ║    ┌──╨──┐                   ║         »\n",
              "a: 1/═══════════════════════════╩══╬════╡ 0x1 ╞═══════════════════╬═════════»\n",
              "                                0  ║    └─────┘                ┌──╨──┐      »\n",
              "b: 1/══════════════════════════════╩═══════════════════════════╡ 0x1 ╞══════»\n",
              "                                   0                           └─────┘      »\n",
              "«               \n",
              "«  Q: ──────────\n",
              "«               \n",
              "«  A: ──────────\n",
              "«      ───────┐ \n",
              "«  B:   End-0 ├─\n",
              "«      ───────┘ \n",
              "«a: 1/══════════\n",
              "«               \n",
              "«b: 1/══════════\n",
              "«               </pre>"
            ]
          },
          "metadata": {}
        }
      ]
    },
    {
      "cell_type": "code",
      "source": [
        "# Run the circuit and verify teleportation\n",
        "random_gate = UGate(\n",
        "    theta=random.random() * 2 * pi,\n",
        "    phi=random.random() * 2 * pi,\n",
        "    lam=random.random() * 2 * pi,\n",
        ")\n",
        "\n",
        "display(random_gate.to_matrix())"
      ],
      "metadata": {
        "id": "euHAF2fE9Axd",
        "colab": {
          "base_uri": "https://localhost:8080/",
          "height": 52
        },
        "outputId": "a4a0c8d7-9a40-479c-94a1-4758239927e1"
      },
      "execution_count": 34,
      "outputs": [
        {
          "output_type": "display_data",
          "data": {
            "text/plain": [
              "array([[ 0.8270874 +0.j        ,  0.38740843-0.40723598j],\n",
              "       [ 0.16622429+0.53693195j, -0.74103003-0.36735277j]])"
            ]
          },
          "metadata": {}
        }
      ]
    },
    {
      "cell_type": "code",
      "source": [
        "#Testing the teleportation\n",
        "test = QuantumCircuit(qubit, ebit0, ebit1, a, b)\n",
        "\n",
        "\n",
        "test.append(random_gate, qubit)\n",
        "test.barrier()\n",
        "\n",
        "\n",
        "test = test.compose(protocol)\n",
        "test.barrier()\n",
        "\n",
        "\n",
        "test.append(random_gate.inverse(), ebit1)\n",
        "\n",
        "result = ClassicalRegister(1, \"Result\")\n",
        "test.add_register(result)\n",
        "test.measure(ebit1, result)\n",
        "\n",
        "display(test.draw())"
      ],
      "metadata": {
        "colab": {
          "base_uri": "https://localhost:8080/",
          "height": 633
        },
        "id": "xcD58JIOoSbQ",
        "outputId": "ef81c6dd-0900-49f6-c3b2-1846acd44843"
      },
      "execution_count": 35,
      "outputs": [
        {
          "output_type": "display_data",
          "data": {
            "text/plain": [
              "          ┌─────────────────────────┐ ░            ░      ┌───┐ ░    ┌─┐ ░ »\n",
              "       Q: ┤ U(1.1938,1.2706,2.3312) ├─░────────────░───■──┤ H ├─░────┤M├─░─»\n",
              "          └─────────────────────────┘ ░ ┌───┐      ░ ┌─┴─┐└───┘ ░ ┌─┐└╥┘ ░ »\n",
              "       A: ────────────────────────────░─┤ H ├──■───░─┤ X ├──────░─┤M├─╫──░─»\n",
              "                                      ░ └───┘┌─┴─┐ ░ └───┘      ░ └╥┘ ║  ░ »\n",
              "       B: ────────────────────────────░──────┤ X ├─░────────────░──╫──╫──░─»\n",
              "                                      ░      └───┘ ░            ░  ║  ║  ░ »\n",
              "     a: 1/═════════════════════════════════════════════════════════╩══╬════»\n",
              "                                                                   0  ║    »\n",
              "     b: 1/════════════════════════════════════════════════════════════╩════»\n",
              "                                                                      0    »\n",
              "Result: 1/═════════════════════════════════════════════════════════════════»\n",
              "                                                                           »\n",
              "«                                                         ░ »\n",
              "«       Q: ───────────────────────────────────────────────░─»\n",
              "«                                                         ░ »\n",
              "«       A: ───────────────────────────────────────────────░─»\n",
              "«          ┌────── ┌───┐ ───────┐ ┌────── ┌───┐ ───────┐  ░ »\n",
              "«       B: ┤ If-0  ┤ X ├  End-0 ├─┤ If-0  ┤ Z ├  End-0 ├──░─»\n",
              "«          └──╥─── └───┘ ───────┘ └──╥─── └───┘ ───────┘  ░ »\n",
              "«          ┌──╨──┐                   ║                      »\n",
              "«     a: 1/╡ 0x1 ╞═══════════════════╬══════════════════════»\n",
              "«          └─────┘                ┌──╨──┐                   »\n",
              "«     b: 1/═══════════════════════╡ 0x1 ╞═══════════════════»\n",
              "«                                 └─────┘                   »\n",
              "«Result: 1/═════════════════════════════════════════════════»\n",
              "«                                                           »\n",
              "«                                           \n",
              "«       Q: ─────────────────────────────────\n",
              "«                                           \n",
              "«       A: ─────────────────────────────────\n",
              "«          ┌────────────────────────────┐┌─┐\n",
              "«       B: ┤ U(-1.1938,-2.3312,-1.2706) ├┤M├\n",
              "«          └────────────────────────────┘└╥┘\n",
              "«     a: 1/═══════════════════════════════╬═\n",
              "«                                         ║ \n",
              "«     b: 1/═══════════════════════════════╬═\n",
              "«                                         ║ \n",
              "«Result: 1/═══════════════════════════════╩═\n",
              "«                                         0 "
            ],
            "text/html": [
              "<pre style=\"word-wrap: normal;white-space: pre;background: #fff0;line-height: 1.1;font-family: &quot;Courier New&quot;,Courier,monospace\">          ┌─────────────────────────┐ ░            ░      ┌───┐ ░    ┌─┐ ░ »\n",
              "       Q: ┤ U(1.1938,1.2706,2.3312) ├─░────────────░───■──┤ H ├─░────┤M├─░─»\n",
              "          └─────────────────────────┘ ░ ┌───┐      ░ ┌─┴─┐└───┘ ░ ┌─┐└╥┘ ░ »\n",
              "       A: ────────────────────────────░─┤ H ├──■───░─┤ X ├──────░─┤M├─╫──░─»\n",
              "                                      ░ └───┘┌─┴─┐ ░ └───┘      ░ └╥┘ ║  ░ »\n",
              "       B: ────────────────────────────░──────┤ X ├─░────────────░──╫──╫──░─»\n",
              "                                      ░      └───┘ ░            ░  ║  ║  ░ »\n",
              "     a: 1/═════════════════════════════════════════════════════════╩══╬════»\n",
              "                                                                   0  ║    »\n",
              "     b: 1/════════════════════════════════════════════════════════════╩════»\n",
              "                                                                      0    »\n",
              "Result: 1/═════════════════════════════════════════════════════════════════»\n",
              "                                                                           »\n",
              "«                                                         ░ »\n",
              "«       Q: ───────────────────────────────────────────────░─»\n",
              "«                                                         ░ »\n",
              "«       A: ───────────────────────────────────────────────░─»\n",
              "«          ┌────── ┌───┐ ───────┐ ┌────── ┌───┐ ───────┐  ░ »\n",
              "«       B: ┤ If-0  ┤ X ├  End-0 ├─┤ If-0  ┤ Z ├  End-0 ├──░─»\n",
              "«          └──╥─── └───┘ ───────┘ └──╥─── └───┘ ───────┘  ░ »\n",
              "«          ┌──╨──┐                   ║                      »\n",
              "«     a: 1/╡ 0x1 ╞═══════════════════╬══════════════════════»\n",
              "«          └─────┘                ┌──╨──┐                   »\n",
              "«     b: 1/═══════════════════════╡ 0x1 ╞═══════════════════»\n",
              "«                                 └─────┘                   »\n",
              "«Result: 1/═════════════════════════════════════════════════»\n",
              "«                                                           »\n",
              "«                                           \n",
              "«       Q: ─────────────────────────────────\n",
              "«                                           \n",
              "«       A: ─────────────────────────────────\n",
              "«          ┌────────────────────────────┐┌─┐\n",
              "«       B: ┤ U(-1.1938,-2.3312,-1.2706) ├┤M├\n",
              "«          └────────────────────────────┘└╥┘\n",
              "«     a: 1/═══════════════════════════════╬═\n",
              "«                                         ║ \n",
              "«     b: 1/═══════════════════════════════╬═\n",
              "«                                         ║ \n",
              "«Result: 1/═══════════════════════════════╩═\n",
              "«                                         0 </pre>"
            ]
          },
          "metadata": {}
        }
      ]
    },
    {
      "cell_type": "code",
      "source": [],
      "metadata": {
        "id": "ADGwGYYpoZHZ"
      },
      "execution_count": null,
      "outputs": []
    }
  ]
}