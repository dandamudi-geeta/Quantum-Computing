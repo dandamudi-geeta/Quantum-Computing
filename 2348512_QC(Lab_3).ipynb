{
  "nbformat": 4,
  "nbformat_minor": 0,
  "metadata": {
    "colab": {
      "provenance": []
    },
    "kernelspec": {
      "name": "python3",
      "display_name": "Python 3"
    },
    "language_info": {
      "name": "python"
    }
  },
  "cells": [
    {
      "cell_type": "code",
      "source": [
        "pip install qiskit"
      ],
      "metadata": {
        "colab": {
          "base_uri": "https://localhost:8080/"
        },
        "id": "GPvHhtPyd76d",
        "outputId": "83a899ed-a5fa-4c7a-df91-632e8d9fab9d"
      },
      "execution_count": 3,
      "outputs": [
        {
          "output_type": "stream",
          "name": "stdout",
          "text": [
            "Requirement already satisfied: qiskit in /usr/local/lib/python3.10/dist-packages (1.2.4)\n",
            "Requirement already satisfied: rustworkx>=0.15.0 in /usr/local/lib/python3.10/dist-packages (from qiskit) (0.15.1)\n",
            "Requirement already satisfied: numpy<3,>=1.17 in /usr/local/lib/python3.10/dist-packages (from qiskit) (1.26.4)\n",
            "Requirement already satisfied: scipy>=1.5 in /usr/local/lib/python3.10/dist-packages (from qiskit) (1.13.1)\n",
            "Requirement already satisfied: sympy>=1.3 in /usr/local/lib/python3.10/dist-packages (from qiskit) (1.13.3)\n",
            "Requirement already satisfied: dill>=0.3 in /usr/local/lib/python3.10/dist-packages (from qiskit) (0.3.9)\n",
            "Requirement already satisfied: python-dateutil>=2.8.0 in /usr/local/lib/python3.10/dist-packages (from qiskit) (2.8.2)\n",
            "Requirement already satisfied: stevedore>=3.0.0 in /usr/local/lib/python3.10/dist-packages (from qiskit) (5.3.0)\n",
            "Requirement already satisfied: typing-extensions in /usr/local/lib/python3.10/dist-packages (from qiskit) (4.12.2)\n",
            "Requirement already satisfied: symengine<0.14,>=0.11 in /usr/local/lib/python3.10/dist-packages (from qiskit) (0.13.0)\n",
            "Requirement already satisfied: six>=1.5 in /usr/local/lib/python3.10/dist-packages (from python-dateutil>=2.8.0->qiskit) (1.16.0)\n",
            "Requirement already satisfied: pbr>=2.0.0 in /usr/local/lib/python3.10/dist-packages (from stevedore>=3.0.0->qiskit) (6.1.0)\n",
            "Requirement already satisfied: mpmath<1.4,>=1.1.0 in /usr/local/lib/python3.10/dist-packages (from sympy>=1.3->qiskit) (1.3.0)\n"
          ]
        }
      ]
    },
    {
      "cell_type": "code",
      "source": [
        "import numpy as np\n",
        "from qiskit.quantum_info import Statevector, Operator"
      ],
      "metadata": {
        "id": "CHet9WDAiAZP"
      },
      "execution_count": 4,
      "outputs": []
    },
    {
      "cell_type": "code",
      "source": [
        "# 1. Tensor Product of Two Vectors\n",
        "\n",
        "def tensor_product(vec1, vec2):\n",
        "    return np.kron(vec1, vec2)\n",
        "\n",
        "# Example vectors\n",
        "psi = np.array([1, 0])  # |0⟩\n",
        "phi = np.array([1/np.sqrt(2), 1/np.sqrt(2)])  # |+⟩\n",
        "\n",
        "# Calculate the tensor product\n",
        "result = tensor_product(psi, phi)\n",
        "print(\"Tensor Product |ψ⟩ ⊗ |ϕ⟩:\")\n",
        "print(result)\n"
      ],
      "metadata": {
        "colab": {
          "base_uri": "https://localhost:8080/"
        },
        "id": "fuxyABR0iAb1",
        "outputId": "76909cb4-ae4d-4837-ad75-57b4b4d6e92a"
      },
      "execution_count": 5,
      "outputs": [
        {
          "output_type": "stream",
          "name": "stdout",
          "text": [
            "Tensor Product |ψ⟩ ⊗ |ϕ⟩:\n",
            "[0.70710678 0.70710678 0.         0.        ]\n"
          ]
        }
      ]
    },
    {
      "cell_type": "code",
      "source": [
        "# 2. Create an Operator and Execute on State Vector\n",
        "\n",
        "# Define a simple operator (e.g., Pauli-X operator)\n",
        "X_operator = np.array([[0, 1],\n",
        "                       [1, 0]])\n",
        "\n",
        "# Execute the operator on the state vector |ψ⟩\n",
        "new_state = X_operator @ psi\n",
        "print(\"\\nNew State after applying X operator on |0⟩:\")\n",
        "print(new_state)"
      ],
      "metadata": {
        "colab": {
          "base_uri": "https://localhost:8080/"
        },
        "id": "ZhgUNuXaiAfw",
        "outputId": "1e66b9f1-d4b0-448d-9323-596159694909"
      },
      "execution_count": 6,
      "outputs": [
        {
          "output_type": "stream",
          "name": "stdout",
          "text": [
            "\n",
            "New State after applying X operator on |0⟩:\n",
            "[0 1]\n"
          ]
        }
      ]
    },
    {
      "cell_type": "code",
      "source": [
        "# 3. Partial Measurement\n",
        "\n",
        "def partial_measure(state, index):\n",
        "    # For simplicity, we consider only measurement of a single qubit\n",
        "    if index == 0:  # Measure the first qubit\n",
        "        return np.array([state[0], state[2]]), np.array([state[1], state[3]])\n",
        "    else:  # Measure the second qubit\n",
        "        return np.array([state[0], state[1]]), np.array([state[2], state[3]])\n",
        "\n",
        "# Get the measurement results\n",
        "measured_0, measured_1 = partial_measure(result, 0)\n",
        "print(\"\\nPartial Measurement Results (Measurement on first qubit):\")\n",
        "print(\"Measured |0⟩ state:\", measured_0)\n",
        "print(\"Measured |1⟩ state:\", measured_1)"
      ],
      "metadata": {
        "colab": {
          "base_uri": "https://localhost:8080/"
        },
        "id": "bsw3Hf2IiAib",
        "outputId": "781f188d-9873-490c-dde9-fa9040fd342a"
      },
      "execution_count": 7,
      "outputs": [
        {
          "output_type": "stream",
          "name": "stdout",
          "text": [
            "\n",
            "Partial Measurement Results (Measurement on first qubit):\n",
            "Measured |0⟩ state: [0.70710678 0.        ]\n",
            "Measured |1⟩ state: [0.70710678 0.        ]\n"
          ]
        }
      ]
    },
    {
      "cell_type": "code",
      "source": [
        "# 4. CSWAP and Toffoli Gates\n",
        "\n",
        "# CSWAP Gate\n",
        "CSWAP = np.array([[1, 0, 0, 0, 0, 0, 0, 0],\n",
        "                  [0, 1, 0, 0, 0, 0, 0, 0],\n",
        "                  [0, 0, 1, 0, 0, 0, 0, 0],\n",
        "                  [0, 0, 0, 1, 0, 0, 0, 0],\n",
        "                  [0, 0, 0, 0, 0, 1, 0, 0],\n",
        "                  [0, 0, 0, 0, 1, 0, 0, 0],\n",
        "                  [0, 0, 0, 0, 0, 0, 0, 1],\n",
        "                  [0, 0, 0, 0, 0, 0, 1, 0]])\n",
        "\n",
        "print(\"\\nCSWAP Matrix Representation:\")\n",
        "print(CSWAP)"
      ],
      "metadata": {
        "colab": {
          "base_uri": "https://localhost:8080/"
        },
        "id": "tjTDhpeQiAkz",
        "outputId": "e399093b-49f2-4305-8dbc-5d68f384ddbe"
      },
      "execution_count": 8,
      "outputs": [
        {
          "output_type": "stream",
          "name": "stdout",
          "text": [
            "\n",
            "CSWAP Matrix Representation:\n",
            "[[1 0 0 0 0 0 0 0]\n",
            " [0 1 0 0 0 0 0 0]\n",
            " [0 0 1 0 0 0 0 0]\n",
            " [0 0 0 1 0 0 0 0]\n",
            " [0 0 0 0 0 1 0 0]\n",
            " [0 0 0 0 1 0 0 0]\n",
            " [0 0 0 0 0 0 0 1]\n",
            " [0 0 0 0 0 0 1 0]]\n"
          ]
        }
      ]
    },
    {
      "cell_type": "code",
      "source": [
        "# Toffoli Gate\n",
        "Toffoli = np.array([[1, 0, 0, 0, 0, 0, 0, 0],\n",
        "                    [0, 1, 0, 0, 0, 0, 0, 0],\n",
        "                    [0, 0, 1, 0, 0, 0, 0, 0],\n",
        "                    [0, 0, 0, 1, 0, 0, 0, 0],\n",
        "                    [0, 0, 0, 0, 1, 0, 0, 0],\n",
        "                    [0, 0, 0, 0, 0, 1, 0, 0],\n",
        "                    [0, 0, 0, 0, 0, 0, 0, 1],\n",
        "                    [0, 0, 0, 0, 0, 0, 1, 0]])\n",
        "\n",
        "print(\"\\nToffoli Matrix Representation:\")\n",
        "print(Toffoli)"
      ],
      "metadata": {
        "colab": {
          "base_uri": "https://localhost:8080/"
        },
        "id": "hfFyPMnMiAoO",
        "outputId": "dae718b9-0beb-4a8f-aba5-57acc65c736d"
      },
      "execution_count": 9,
      "outputs": [
        {
          "output_type": "stream",
          "name": "stdout",
          "text": [
            "\n",
            "Toffoli Matrix Representation:\n",
            "[[1 0 0 0 0 0 0 0]\n",
            " [0 1 0 0 0 0 0 0]\n",
            " [0 0 1 0 0 0 0 0]\n",
            " [0 0 0 1 0 0 0 0]\n",
            " [0 0 0 0 1 0 0 0]\n",
            " [0 0 0 0 0 1 0 0]\n",
            " [0 0 0 0 0 0 0 1]\n",
            " [0 0 0 0 0 0 1 0]]\n"
          ]
        }
      ]
    },
    {
      "cell_type": "markdown",
      "source": [
        "We define the function tensor_product using NumPy's kron function to compute the tensor product of two vectors. Operator Application:\n",
        "\n",
        "We define a simple Pauli-X operator and apply it to the |0⟩ state vector using matrix multiplication. Partial Measurement:\n",
        "\n",
        "The partial_measure function simulates measuring one of the qubits in the composite state. Gate Representations:\n",
        "\n",
        "The CSWAP and Toffoli gates are defined as 8x8 matrices to represent their action on 3 qubits."
      ],
      "metadata": {
        "id": "lZKaD10_inSp"
      }
    }
  ]
}