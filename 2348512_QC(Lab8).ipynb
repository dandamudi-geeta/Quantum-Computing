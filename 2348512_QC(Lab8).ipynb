{
  "nbformat": 4,
  "nbformat_minor": 0,
  "metadata": {
    "colab": {
      "provenance": [],
      "authorship_tag": "ABX9TyOxEu8X5IMbSNwpkv3zygTX",
      "include_colab_link": true
    },
    "kernelspec": {
      "name": "python3",
      "display_name": "Python 3"
    },
    "language_info": {
      "name": "python"
    }
  },
  "cells": [
    {
      "cell_type": "markdown",
      "metadata": {
        "id": "view-in-github",
        "colab_type": "text"
      },
      "source": [
        "<a href=\"https://colab.research.google.com/github/dandamudi-geeta/Quantum-Computing/blob/main/2348512_QC(Lab8).ipynb\" target=\"_parent\"><img src=\"https://colab.research.google.com/assets/colab-badge.svg\" alt=\"Open In Colab\"/></a>"
      ]
    },
    {
      "cell_type": "code",
      "source": [
        "!pip install qiskit"
      ],
      "metadata": {
        "colab": {
          "base_uri": "https://localhost:8080/"
        },
        "id": "Hyg5JpTDPrrO",
        "outputId": "80e63246-c1b2-490f-f6e2-34f46821054f"
      },
      "execution_count": 1,
      "outputs": [
        {
          "output_type": "stream",
          "name": "stdout",
          "text": [
            "Collecting qiskit\n",
            "  Downloading qiskit-1.3.0-cp39-abi3-manylinux_2_17_x86_64.manylinux2014_x86_64.whl.metadata (12 kB)\n",
            "Collecting rustworkx>=0.15.0 (from qiskit)\n",
            "  Downloading rustworkx-0.15.1-cp38-abi3-manylinux_2_17_x86_64.manylinux2014_x86_64.whl.metadata (9.9 kB)\n",
            "Requirement already satisfied: numpy<3,>=1.17 in /usr/local/lib/python3.10/dist-packages (from qiskit) (1.26.4)\n",
            "Requirement already satisfied: scipy>=1.5 in /usr/local/lib/python3.10/dist-packages (from qiskit) (1.13.1)\n",
            "Requirement already satisfied: sympy>=1.3 in /usr/local/lib/python3.10/dist-packages (from qiskit) (1.13.1)\n",
            "Collecting dill>=0.3 (from qiskit)\n",
            "  Downloading dill-0.3.9-py3-none-any.whl.metadata (10 kB)\n",
            "Requirement already satisfied: python-dateutil>=2.8.0 in /usr/local/lib/python3.10/dist-packages (from qiskit) (2.8.2)\n",
            "Collecting stevedore>=3.0.0 (from qiskit)\n",
            "  Downloading stevedore-5.4.0-py3-none-any.whl.metadata (2.3 kB)\n",
            "Requirement already satisfied: typing-extensions in /usr/local/lib/python3.10/dist-packages (from qiskit) (4.12.2)\n",
            "Collecting symengine<0.14,>=0.11 (from qiskit)\n",
            "  Downloading symengine-0.13.0-cp310-cp310-manylinux_2_17_x86_64.manylinux2014_x86_64.whl.metadata (1.2 kB)\n",
            "Requirement already satisfied: six>=1.5 in /usr/local/lib/python3.10/dist-packages (from python-dateutil>=2.8.0->qiskit) (1.16.0)\n",
            "Collecting pbr>=2.0.0 (from stevedore>=3.0.0->qiskit)\n",
            "  Downloading pbr-6.1.0-py2.py3-none-any.whl.metadata (3.4 kB)\n",
            "Requirement already satisfied: mpmath<1.4,>=1.1.0 in /usr/local/lib/python3.10/dist-packages (from sympy>=1.3->qiskit) (1.3.0)\n",
            "Downloading qiskit-1.3.0-cp39-abi3-manylinux_2_17_x86_64.manylinux2014_x86_64.whl (6.7 MB)\n",
            "\u001b[2K   \u001b[90m━━━━━━━━━━━━━━━━━━━━━━━━━━━━━━━━━━━━━━━━\u001b[0m \u001b[32m6.7/6.7 MB\u001b[0m \u001b[31m39.8 MB/s\u001b[0m eta \u001b[36m0:00:00\u001b[0m\n",
            "\u001b[?25hDownloading dill-0.3.9-py3-none-any.whl (119 kB)\n",
            "\u001b[2K   \u001b[90m━━━━━━━━━━━━━━━━━━━━━━━━━━━━━━━━━━━━━━━━\u001b[0m \u001b[32m119.4/119.4 kB\u001b[0m \u001b[31m6.5 MB/s\u001b[0m eta \u001b[36m0:00:00\u001b[0m\n",
            "\u001b[?25hDownloading rustworkx-0.15.1-cp38-abi3-manylinux_2_17_x86_64.manylinux2014_x86_64.whl (2.0 MB)\n",
            "\u001b[2K   \u001b[90m━━━━━━━━━━━━━━━━━━━━━━━━━━━━━━━━━━━━━━━━\u001b[0m \u001b[32m2.0/2.0 MB\u001b[0m \u001b[31m27.0 MB/s\u001b[0m eta \u001b[36m0:00:00\u001b[0m\n",
            "\u001b[?25hDownloading stevedore-5.4.0-py3-none-any.whl (49 kB)\n",
            "\u001b[2K   \u001b[90m━━━━━━━━━━━━━━━━━━━━━━━━━━━━━━━━━━━━━━━━\u001b[0m \u001b[32m49.5/49.5 kB\u001b[0m \u001b[31m2.6 MB/s\u001b[0m eta \u001b[36m0:00:00\u001b[0m\n",
            "\u001b[?25hDownloading symengine-0.13.0-cp310-cp310-manylinux_2_17_x86_64.manylinux2014_x86_64.whl (49.7 MB)\n",
            "\u001b[2K   \u001b[90m━━━━━━━━━━━━━━━━━━━━━━━━━━━━━━━━━━━━━━━━\u001b[0m \u001b[32m49.7/49.7 MB\u001b[0m \u001b[31m12.1 MB/s\u001b[0m eta \u001b[36m0:00:00\u001b[0m\n",
            "\u001b[?25hDownloading pbr-6.1.0-py2.py3-none-any.whl (108 kB)\n",
            "\u001b[2K   \u001b[90m━━━━━━━━━━━━━━━━━━━━━━━━━━━━━━━━━━━━━━━━\u001b[0m \u001b[32m108.5/108.5 kB\u001b[0m \u001b[31m3.6 MB/s\u001b[0m eta \u001b[36m0:00:00\u001b[0m\n",
            "\u001b[?25hInstalling collected packages: symengine, rustworkx, pbr, dill, stevedore, qiskit\n",
            "Successfully installed dill-0.3.9 pbr-6.1.0 qiskit-1.3.0 rustworkx-0.15.1 stevedore-5.4.0 symengine-0.13.0\n"
          ]
        }
      ]
    },
    {
      "cell_type": "code",
      "source": [
        "!pip install qiskit-aer"
      ],
      "metadata": {
        "colab": {
          "base_uri": "https://localhost:8080/"
        },
        "id": "2GtIoCyYP0qg",
        "outputId": "72b320d4-5db9-4b95-b7e6-b043ceb2f751"
      },
      "execution_count": 3,
      "outputs": [
        {
          "output_type": "stream",
          "name": "stdout",
          "text": [
            "Requirement already satisfied: qiskit-aer in /usr/local/lib/python3.10/dist-packages (0.15.1)\n",
            "Requirement already satisfied: qiskit>=1.1.0 in /usr/local/lib/python3.10/dist-packages (from qiskit-aer) (1.3.0)\n",
            "Requirement already satisfied: numpy>=1.16.3 in /usr/local/lib/python3.10/dist-packages (from qiskit-aer) (1.26.4)\n",
            "Requirement already satisfied: scipy>=1.0 in /usr/local/lib/python3.10/dist-packages (from qiskit-aer) (1.13.1)\n",
            "Requirement already satisfied: psutil>=5 in /usr/local/lib/python3.10/dist-packages (from qiskit-aer) (5.9.5)\n",
            "Requirement already satisfied: rustworkx>=0.15.0 in /usr/local/lib/python3.10/dist-packages (from qiskit>=1.1.0->qiskit-aer) (0.15.1)\n",
            "Requirement already satisfied: sympy>=1.3 in /usr/local/lib/python3.10/dist-packages (from qiskit>=1.1.0->qiskit-aer) (1.13.1)\n",
            "Requirement already satisfied: dill>=0.3 in /usr/local/lib/python3.10/dist-packages (from qiskit>=1.1.0->qiskit-aer) (0.3.9)\n",
            "Requirement already satisfied: python-dateutil>=2.8.0 in /usr/local/lib/python3.10/dist-packages (from qiskit>=1.1.0->qiskit-aer) (2.8.2)\n",
            "Requirement already satisfied: stevedore>=3.0.0 in /usr/local/lib/python3.10/dist-packages (from qiskit>=1.1.0->qiskit-aer) (5.4.0)\n",
            "Requirement already satisfied: typing-extensions in /usr/local/lib/python3.10/dist-packages (from qiskit>=1.1.0->qiskit-aer) (4.12.2)\n",
            "Requirement already satisfied: symengine<0.14,>=0.11 in /usr/local/lib/python3.10/dist-packages (from qiskit>=1.1.0->qiskit-aer) (0.13.0)\n",
            "Requirement already satisfied: six>=1.5 in /usr/local/lib/python3.10/dist-packages (from python-dateutil>=2.8.0->qiskit>=1.1.0->qiskit-aer) (1.16.0)\n",
            "Requirement already satisfied: pbr>=2.0.0 in /usr/local/lib/python3.10/dist-packages (from stevedore>=3.0.0->qiskit>=1.1.0->qiskit-aer) (6.1.0)\n",
            "Requirement already satisfied: mpmath<1.4,>=1.1.0 in /usr/local/lib/python3.10/dist-packages (from sympy>=1.3->qiskit>=1.1.0->qiskit-aer) (1.3.0)\n"
          ]
        }
      ]
    },
    {
      "cell_type": "code",
      "source": [
        "from qiskit import transpile\n",
        "from qiskit_aer import AerSimulator"
      ],
      "metadata": {
        "id": "aEg9xpHLQIZ-"
      },
      "execution_count": 4,
      "outputs": []
    },
    {
      "cell_type": "code",
      "execution_count": 6,
      "metadata": {
        "id": "DYcPTSK-PqEX"
      },
      "outputs": [],
      "source": [
        "from qiskit import QuantumCircuit\n",
        "from qiskit.visualization import plot_histogram\n",
        "import random\n"
      ]
    },
    {
      "cell_type": "markdown",
      "source": [
        "**Define Query Gate Implementation**"
      ],
      "metadata": {
        "id": "nY71tLi4QTpM"
      }
    },
    {
      "cell_type": "code",
      "source": [
        "def deutsch_jozsa_query(n, case):\n",
        "    \"\"\"\n",
        "    Create the query gate (oracle) for the Deutsch-Jozsa problem.\n",
        "\n",
        "    Args:\n",
        "        n (int): Number of qubits representing the input (excluding the auxiliary qubit).\n",
        "        case (str): 'constant' or 'balanced'.\n",
        "\n",
        "    Returns:\n",
        "        QuantumCircuit: A circuit implementing the query gate.\n",
        "    \"\"\"\n",
        "    query_gate = QuantumCircuit(n + 1)  # n input qubits + 1 auxiliary qubit\n",
        "\n",
        "    if case == \"constant\":\n",
        "        # For constant functions, the auxiliary qubit's state is unchanged\n",
        "        if random.choice([0, 1]) == 1:\n",
        "            query_gate.x(n)  # Apply X gate to auxiliary qubit if f(x) = 1 for all x\n",
        "\n",
        "    elif case == \"balanced\":\n",
        "        # For balanced functions, flip the auxiliary qubit for half the inputs\n",
        "        for i in range(2**n // 2):  # Create a balanced function\n",
        "            binary_string = format(i, f'0{n}b')\n",
        "            for j, bit in enumerate(binary_string):\n",
        "                if bit == '0':\n",
        "                    query_gate.x(j)  # Apply X gates to match the input\n",
        "            query_gate.mcx(list(range(n)), n)  # Apply multi-controlled NOT\n",
        "            for j, bit in enumerate(binary_string):\n",
        "                if bit == '0':\n",
        "                    query_gate.x(j)  # Uncompute X gates\n",
        "\n",
        "    query_gate = query_gate.to_gate(label=\"Oracle\")\n",
        "    return query_gate\n"
      ],
      "metadata": {
        "id": "cznv-QEmPrtV"
      },
      "execution_count": 7,
      "outputs": []
    },
    {
      "cell_type": "markdown",
      "source": [
        "**Create the Deutsch-Jozsa Circuit**"
      ],
      "metadata": {
        "id": "5bDjV2bLQdKV"
      }
    },
    {
      "cell_type": "code",
      "source": [
        "def deutsch_jozsa_algorithm(n, oracle):\n",
        "    \"\"\"\n",
        "    Create and run the Deutsch-Jozsa algorithm.\n",
        "\n",
        "    Args:\n",
        "        n (int): Number of input qubits.\n",
        "        oracle (QuantumGate): The query gate (oracle) for the problem.\n",
        "\n",
        "    Returns:\n",
        "        QuantumCircuit: The Deutsch-Jozsa circuit.\n",
        "    \"\"\"\n",
        "    dj_circuit = QuantumCircuit(n + 1, n)\n",
        "\n",
        "    # Initialize the auxiliary qubit in |1⟩ state\n",
        "    dj_circuit.x(n)\n",
        "    dj_circuit.h(n)\n",
        "\n",
        "    # Apply Hadamard to all input qubits\n",
        "    for qubit in range(n):\n",
        "        dj_circuit.h(qubit)\n",
        "\n",
        "    # Add the oracle\n",
        "    dj_circuit.append(oracle, range(n + 1))\n",
        "\n",
        "    # Apply Hadamard again to all input qubits\n",
        "    for qubit in range(n):\n",
        "        dj_circuit.h(qubit)\n",
        "\n",
        "    # Measure all input qubits\n",
        "    dj_circuit.measure(range(n), range(n))\n",
        "\n",
        "    return dj_circuit\n"
      ],
      "metadata": {
        "id": "sQIlhjqYPrwu"
      },
      "execution_count": 8,
      "outputs": []
    },
    {
      "cell_type": "markdown",
      "source": [
        "**Run the Algorithm**"
      ],
      "metadata": {
        "id": "H6xCafB1QjRL"
      }
    },
    {
      "cell_type": "code",
      "source": [
        "# Number of input qubits\n",
        "n = 3  # You can change this value to increase/decrease complexity"
      ],
      "metadata": {
        "id": "MuJZ7wMgQgWV"
      },
      "execution_count": 9,
      "outputs": []
    },
    {
      "cell_type": "code",
      "source": [
        "# Randomly select a function type\n",
        "function_type = random.choice([\"constant\", \"balanced\"])\n",
        "print(f\"Chosen function type: {function_type}\")\n"
      ],
      "metadata": {
        "colab": {
          "base_uri": "https://localhost:8080/"
        },
        "id": "vImhWwykQoHe",
        "outputId": "835dcbbb-59bc-4e64-d7f7-00ebdccbaa77"
      },
      "execution_count": 10,
      "outputs": [
        {
          "output_type": "stream",
          "name": "stdout",
          "text": [
            "Chosen function type: constant\n"
          ]
        }
      ]
    },
    {
      "cell_type": "code",
      "source": [
        "# Create the oracle for the selected function\n",
        "oracle_gate = deutsch_jozsa_query(n, function_type)"
      ],
      "metadata": {
        "id": "GiXPeWXdQo0A"
      },
      "execution_count": 11,
      "outputs": []
    },
    {
      "cell_type": "code",
      "source": [
        "# Create the Deutsch-Jozsa circuit\n",
        "dj_circuit = deutsch_jozsa_algorithm(n, oracle_gate)"
      ],
      "metadata": {
        "id": "F_FdHa1zQo2z"
      },
      "execution_count": 12,
      "outputs": []
    },
    {
      "cell_type": "code",
      "source": [
        "# Display the quantum circuit\n",
        "print(\"Deutsch-Jozsa Circuit:\")\n",
        "print(dj_circuit.draw(output='text'))"
      ],
      "metadata": {
        "colab": {
          "base_uri": "https://localhost:8080/"
        },
        "id": "sBLK_8uUQo5L",
        "outputId": "a8cf7e03-43f7-47ce-db11-e6b8d65b3c9c"
      },
      "execution_count": 13,
      "outputs": [
        {
          "output_type": "stream",
          "name": "stdout",
          "text": [
            "Deutsch-Jozsa Circuit:\n",
            "     ┌───┐     ┌─────────┐┌───┐┌─┐      \n",
            "q_0: ┤ H ├─────┤0        ├┤ H ├┤M├──────\n",
            "     ├───┤     │         │├───┤└╥┘┌─┐   \n",
            "q_1: ┤ H ├─────┤1        ├┤ H ├─╫─┤M├───\n",
            "     ├───┤     │  Oracle │├───┤ ║ └╥┘┌─┐\n",
            "q_2: ┤ H ├─────┤2        ├┤ H ├─╫──╫─┤M├\n",
            "     ├───┤┌───┐│         │└───┘ ║  ║ └╥┘\n",
            "q_3: ┤ X ├┤ H ├┤3        ├──────╫──╫──╫─\n",
            "     └───┘└───┘└─────────┘      ║  ║  ║ \n",
            "c: 3/═══════════════════════════╩══╩══╩═\n",
            "                                0  1  2 \n"
          ]
        }
      ]
    },
    {
      "cell_type": "code",
      "source": [
        "# Run the circuit using a simulator\n",
        "simulator = AerSimulator()\n",
        "compiled_circuit = transpile(dj_circuit, simulator)\n",
        "result = simulator.run(compiled_circuit).result()"
      ],
      "metadata": {
        "id": "99Su-IYkQo8r"
      },
      "execution_count": 14,
      "outputs": []
    },
    {
      "cell_type": "code",
      "source": [
        "# Get the measurement results\n",
        "counts = result.get_counts()\n",
        "print(\"\\nMeasurement Results:\")\n",
        "print(counts)"
      ],
      "metadata": {
        "colab": {
          "base_uri": "https://localhost:8080/"
        },
        "id": "C2y4v5bbQudd",
        "outputId": "2ab811d2-41d7-4e66-b4fb-b0264f8d6e37"
      },
      "execution_count": 15,
      "outputs": [
        {
          "output_type": "stream",
          "name": "stdout",
          "text": [
            "\n",
            "Measurement Results:\n",
            "{'000': 1024}\n"
          ]
        }
      ]
    },
    {
      "cell_type": "code",
      "source": [
        "# Analyze the result\n",
        "if '0' * n in counts:\n",
        "    print(\"The function is CONSTANT.\")\n",
        "else:\n",
        "    print(\"The function is BALANCED.\")\n"
      ],
      "metadata": {
        "colab": {
          "base_uri": "https://localhost:8080/"
        },
        "id": "GwGHD4vAQug6",
        "outputId": "3f1c15d6-e789-4dc9-b6c5-b1819cd2f5dc"
      },
      "execution_count": 16,
      "outputs": [
        {
          "output_type": "stream",
          "name": "stdout",
          "text": [
            "The function is CONSTANT.\n"
          ]
        }
      ]
    }
  ]
}